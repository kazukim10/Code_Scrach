{
 "cells": [
  {
   "cell_type": "markdown",
   "metadata": {},
   "source": [
    "## Time2Vector"
   ]
  },
  {
   "cell_type": "markdown",
   "metadata": {},
   "source": [
    "## References\n",
    "- Time2Vec: Learning a Vector Representation of Time  \n",
    "https://arxiv.org/pdf/1907.05321.pdf"
   ]
  },
  {
   "cell_type": "code",
   "execution_count": 54,
   "metadata": {},
   "outputs": [],
   "source": [
    "import numpy as np\n",
    "import matplotlib.pyplot as plt\n",
    "import pandas as pd\n",
    "\n",
    "import random\n",
    "\n",
    "from sklearn.model_selection import train_test_split\n",
    "\n",
    "import tensorflow as tf\n",
    "from tensorflow.keras.layers import *\n",
    "from tensorflow.keras.models import *\n",
    "from tensorflow.keras.callbacks import * \n",
    "from tensorflow.keras.optimizers import *\n",
    "from tensorflow.keras import backend as K\n",
    "from tensorflow.keras.callbacks import EarlyStopping"
   ]
  },
  {
   "cell_type": "code",
   "execution_count": 55,
   "metadata": {},
   "outputs": [],
   "source": [
    "class Time2Vector(Layer):\n",
    "    \n",
    "    def __init__(self, seq_len, **kwargs):\n",
    "        super(Time2Vector, self).__init__()\n",
    "        \n",
    "        self.seq_len = int(seq_len)\n",
    "        \n",
    "    def build(self, input_shape):\n",
    "        self.weights_linear = self.add_weight(name='weight_linear',\n",
    "                                              shape=(self.seq_len,),\n",
    "                                              initializer='uniform',\n",
    "                                              trainable=True)\n",
    "    \n",
    "        self.bias_linear = self.add_weight(name='bias_linear',\n",
    "                                           shape=(self.seq_len,),\n",
    "                                           initializer='uniform',\n",
    "                                           trainable=True)\n",
    "    \n",
    "        self.weights_periodic = self.add_weight(name='weight_periodic',\n",
    "                                                shape=(self.seq_len,),\n",
    "                                                initializer='uniform',\n",
    "                                                trainable=True)\n",
    "\n",
    "        self.bias_periodic = self.add_weight(name='bias_periodic',\n",
    "                                             shape=(self.seq_len,),\n",
    "                                             initializer='uniform',\n",
    "                                             trainable=True)\n",
    "    \n",
    "    def call(self, x):\n",
    "        x = tf.math.reduce_mean(x, axis=-1) # Convert (batch, seq_len, features) to (batch, seq_len)\n",
    "        time_linear = self.weights_linear * x + self.bias_linear\n",
    "        time_linear = tf.expand_dims(time_linear, axis=-1) # (batch, seq_len, 1)\n",
    "    \n",
    "        time_periodic = tf.math.sin(tf.multiply(x, self.weights_periodic) + self.bias_periodic)\n",
    "        time_periodic = tf.expand_dims(time_periodic, axis=-1) # (batch, seq_len, 1)\n",
    "        \n",
    "        return tf.concat([time_linear, time_periodic], axis=-1) # (batch, seq_len, 2)"
   ]
  },
  {
   "cell_type": "markdown",
   "metadata": {},
   "source": [
    "## Test"
   ]
  },
  {
   "cell_type": "code",
   "execution_count": 56,
   "metadata": {},
   "outputs": [],
   "source": [
    "# sample data noiseを付与したsin波\n",
    "def sin(s, T=100):\n",
    "    return np.sin(2.0*np.pi*s/T)\n",
    "\n",
    "def test_data(T=100, n=0.05):\n",
    "    s = np.arange(0,2*T+1)\n",
    "    noise = n*np.random.uniform(low=-1.0,high=1.0,size=len(s))\n",
    "    \n",
    "    return sin(s)+noise"
   ]
  },
  {
   "cell_type": "code",
   "execution_count": 57,
   "metadata": {},
   "outputs": [],
   "source": [
    "T = 100\n",
    "f = test_data(T=T,n=0.2).astype(np.float32)\n",
    "\n",
    "len_seq = len(f)"
   ]
  },
  {
   "cell_type": "code",
   "execution_count": 58,
   "metadata": {},
   "outputs": [
    {
     "data": {
      "image/png": "[encoded data removed]",
      "text/plain": [
       "<Figure size 432x288 with 1 Axes>"
      ]
     },
     "metadata": {
      "needs_background": "light"
     },
     "output_type": "display_data"
    }
   ],
   "source": [
    "plt.plot(f);"
   ]
  },
  {
   "cell_type": "code",
   "execution_count": 59,
   "metadata": {},
   "outputs": [],
   "source": [
    "# datasetの作成\n",
    "max_seq = 25\n",
    "\n",
    "X = []\n",
    "y = []\n",
    "\n",
    "for i in range(len_seq -max_seq):\n",
    "    X.append(f[i:i+max_seq])\n",
    "    y.append(f[i+max_seq])\n",
    "    \n",
    "X = np.array(X).reshape(-1,max_seq,1)\n",
    "y = np.array(y).reshape(-1,1)"
   ]
  },
  {
   "cell_type": "code",
   "execution_count": 60,
   "metadata": {},
   "outputs": [
    {
     "name": "stdout",
     "output_type": "stream",
     "text": [
      "X.shape: (176, 25, 1)\n",
      "y.shape: (176, 1)\n"
     ]
    }
   ],
   "source": [
    "print('X.shape:',X.shape)\n",
    "print('y.shape:',y.shape)"
   ]
  },
  {
   "cell_type": "code",
   "execution_count": 61,
   "metadata": {},
   "outputs": [],
   "source": [
    "# train,valid split\n",
    "X_train, X_valid, y_train, y_valid = train_test_split(X, y, test_size=0.20, shuffle=False)"
   ]
  },
  {
   "cell_type": "code",
   "execution_count": 62,
   "metadata": {},
   "outputs": [],
   "source": [
    "def model_lstm(num_len=max_seq,features=1):\n",
    "    \n",
    "    t2v = Time2Vector(num_len)\n",
    "    \n",
    "    inp = Input(shape=(num_len,features))\n",
    "    x = t2v(inp)\n",
    "    x = LSTM(64,activation='tanh')(x)\n",
    "    out = Dense(1)(x)\n",
    "\n",
    "    model = Model(inputs=inp, outputs=out)\n",
    "    model.compile(optimizer=Adam(learning_rate=0.001),\n",
    "                  loss='mse',\n",
    "                 )\n",
    "\n",
    "    return model"
   ]
  },
  {
   "cell_type": "code",
   "execution_count": 63,
   "metadata": {},
   "outputs": [
    {
     "name": "stdout",
     "output_type": "stream",
     "text": [
      "Epoch 1/100\n",
      "5/5 [==============================] - 1s 125ms/step - loss: 0.4868 - val_loss: 0.6566\n",
      "Epoch 2/100\n",
      "5/5 [==============================] - 0s 30ms/step - loss: 0.4799 - val_loss: 0.6554\n",
      "Epoch 3/100\n",
      "5/5 [==============================] - 0s 18ms/step - loss: 0.4757 - val_loss: 0.6788\n",
      "Epoch 4/100\n",
      "5/5 [==============================] - 0s 18ms/step - loss: 0.4671 - val_loss: 0.6954\n",
      "Epoch 5/100\n",
      "5/5 [==============================] - 0s 17ms/step - loss: 0.4553 - val_loss: 0.7107\n",
      "Epoch 6/100\n",
      "5/5 [==============================] - 0s 17ms/step - loss: 0.4218 - val_loss: 0.5313\n",
      "Epoch 7/100\n",
      "5/5 [==============================] - 0s 37ms/step - loss: 0.3567 - val_loss: 0.2553\n",
      "Epoch 8/100\n",
      "5/5 [==============================] - 0s 36ms/step - loss: 0.2811 - val_loss: 0.1149\n",
      "Epoch 9/100\n",
      "5/5 [==============================] - 0s 30ms/step - loss: 0.2207 - val_loss: 0.0865\n",
      "Epoch 10/100\n",
      "5/5 [==============================] - 0s 30ms/step - loss: 0.1381 - val_loss: 0.0289\n",
      "Epoch 11/100\n",
      "5/5 [==============================] - 0s 26ms/step - loss: 0.0942 - val_loss: 0.1156\n",
      "Epoch 12/100\n",
      "5/5 [==============================] - 0s 20ms/step - loss: 0.0788 - val_loss: 0.0432\n",
      "Epoch 13/100\n",
      "5/5 [==============================] - 0s 18ms/step - loss: 0.0536 - val_loss: 0.0255\n",
      "Epoch 14/100\n",
      "5/5 [==============================] - 0s 18ms/step - loss: 0.0469 - val_loss: 0.0196\n",
      "Epoch 15/100\n",
      "5/5 [==============================] - 0s 18ms/step - loss: 0.0446 - val_loss: 0.0156\n",
      "Epoch 16/100\n",
      "5/5 [==============================] - 0s 17ms/step - loss: 0.0366 - val_loss: 0.0138\n",
      "Epoch 17/100\n",
      "5/5 [==============================] - 0s 17ms/step - loss: 0.0362 - val_loss: 0.0181\n",
      "Epoch 18/100\n",
      "5/5 [==============================] - 0s 17ms/step - loss: 0.0353 - val_loss: 0.0142\n",
      "Epoch 19/100\n",
      "5/5 [==============================] - 0s 18ms/step - loss: 0.0338 - val_loss: 0.0129\n",
      "Epoch 20/100\n",
      "5/5 [==============================] - 0s 17ms/step - loss: 0.0325 - val_loss: 0.0161\n",
      "Epoch 21/100\n",
      "5/5 [==============================] - 0s 35ms/step - loss: 0.0328 - val_loss: 0.0125\n",
      "Epoch 22/100\n",
      "5/5 [==============================] - 0s 34ms/step - loss: 0.0345 - val_loss: 0.0198\n",
      "Epoch 23/100\n",
      "5/5 [==============================] - 0s 25ms/step - loss: 0.0384 - val_loss: 0.0167\n",
      "Epoch 24/100\n",
      "5/5 [==============================] - 0s 32ms/step - loss: 0.0376 - val_loss: 0.0199\n",
      "Epoch 25/100\n",
      "5/5 [==============================] - 0s 24ms/step - loss: 0.0355 - val_loss: 0.0141\n",
      "Epoch 26/100\n",
      "5/5 [==============================] - 0s 23ms/step - loss: 0.0305 - val_loss: 0.0215\n",
      "Epoch 00026: early stopping\n"
     ]
    }
   ],
   "source": [
    "model = model_lstm(num_len=max_seq,features=1)\n",
    "\n",
    "es = EarlyStopping(monitor='val_loss',\n",
    "                  patience=5,\n",
    "                  verbose=1)\n",
    "\n",
    "hist = model.fit(X_train,\n",
    "                y_train,\n",
    "                epochs=100,\n",
    "                batch_size=32,\n",
    "                validation_data=(X_valid,y_valid),\n",
    "                callbacks=[es])"
   ]
  },
  {
   "cell_type": "code",
   "execution_count": 64,
   "metadata": {},
   "outputs": [
    {
     "data": {
      "image/png": "[encoded data removed]",
      "text/plain": [
       "<Figure size 432x288 with 1 Axes>"
      ]
     },
     "metadata": {
      "needs_background": "light"
     },
     "output_type": "display_data"
    }
   ],
   "source": [
    "# modelの評価\n",
    "sin = test_data(T=T,n=0)\n",
    "gen = [None for i in range(max_seq)]\n",
    "\n",
    "z = X[:1]\n",
    "\n",
    "# predction\n",
    "for i in range(len_seq-max_seq):\n",
    "    preds = model.predict(z[-1:])\n",
    "    z = np.append(z,preds)[1:]\n",
    "    \n",
    "    z = z.reshape(-1,max_seq,1)\n",
    "    gen.append(preds[0,0])\n",
    "\n",
    "fig = plt.figure()\n",
    "plt.rc('font',family='serif')\n",
    "plt.xlim([0,2*T])\n",
    "plt.ylim([-1.5,1.5])\n",
    "\n",
    "plt.plot(range(len(f)),sin,color='gray',linestyle='--',linewidth=0.5)\n",
    "plt.plot(range(len(f)),gen,color='red',linewidth=1,);\n",
    "\n"
   ]
  },
  {
   "cell_type": "code",
   "execution_count": null,
   "metadata": {},
   "outputs": [],
   "source": []
  }
 ],
 "metadata": {
  "kernelspec": {
   "display_name": "Python 3",
   "language": "python",
   "name": "python3"
  },
  "language_info": {
   "codemirror_mode": {
    "name": "ipython",
    "version": 3
   },
   "file_extension": ".py",
   "mimetype": "text/x-python",
   "name": "python",
   "nbconvert_exporter": "python",
   "pygments_lexer": "ipython3",
   "version": "3.8.2"
  },
  "toc": {
   "base_numbering": 1,
   "nav_menu": {},
   "number_sections": true,
   "sideBar": true,
   "skip_h1_title": false,
   "title_cell": "Table of Contents",
   "title_sidebar": "Contents",
   "toc_cell": false,
   "toc_position": {},
   "toc_section_display": true,
   "toc_window_display": false
  }
 },
 "nbformat": 4,
 "nbformat_minor": 4
}
