{
 "cells": [
  {
   "cell_type": "markdown",
   "metadata": {},
   "source": [
    "## Transformer"
   ]
  },
  {
   "cell_type": "markdown",
   "metadata": {},
   "source": [
    "TensorFlowのチュートリアルを参考に、transformerモデルを理解する。\n",
    "https://www.tensorflow.org/tutorials/text/transformer\n",
    "- Self-Attention\n",
    "- スケール済み内積アテンション\n",
    "- マルチヘッド・アテンション\n",
    "- 位置エンコーディング\n",
    "- マスキング"
   ]
  },
  {
   "cell_type": "markdown",
   "metadata": {},
   "source": [
    "## インポート"
   ]
  },
  {
   "cell_type": "code",
   "execution_count": 1,
   "metadata": {},
   "outputs": [],
   "source": [
    "import time\n",
    "import numpy as np\n",
    "import matplotlib.pyplot as plt\n",
    "\n",
    "import tensorflow as tf\n",
    "#!pip install tensorflow-datasets\n",
    "import tensorflow_datasets as tfds"
   ]
  },
  {
   "cell_type": "markdown",
   "metadata": {},
   "source": [
    "## データセットの準備"
   ]
  },
  {
   "cell_type": "code",
   "execution_count": 2,
   "metadata": {},
   "outputs": [
    {
     "name": "stdout",
     "output_type": "stream",
     "text": [
      "\u001b[1mDownloading and preparing dataset 124.94 MiB (download: 124.94 MiB, generated: Unknown size, total: 124.94 MiB) to /Users/kazuki/tensorflow_datasets/ted_hrlr_translate/pt_to_en/1.0.0...\u001b[0m\n"
     ]
    },
    {
     "data": {
      "application/vnd.jupyter.widget-view+json": {
       "model_id": "e67e6d8c85bd45298b20a91da53826c0",
       "version_major": 2,
       "version_minor": 0
      },
      "text/plain": [
       "HBox(children=(HTML(value='Dl Completed...'), FloatProgress(value=1.0, bar_style='info', layout=Layout(width='…"
      ]
     },
     "metadata": {},
     "output_type": "display_data"
    },
    {
     "data": {
      "application/vnd.jupyter.widget-view+json": {
       "model_id": "91da328c10d241f19009c3464268c740",
       "version_major": 2,
       "version_minor": 0
      },
      "text/plain": [
       "HBox(children=(HTML(value='Dl Size...'), FloatProgress(value=1.0, bar_style='info', layout=Layout(width='20px'…"
      ]
     },
     "metadata": {},
     "output_type": "display_data"
    },
    {
     "data": {
      "application/vnd.jupyter.widget-view+json": {
       "model_id": "b769b5309a8b43668453b98e0f6ba93b",
       "version_major": 2,
       "version_minor": 0
      },
      "text/plain": [
       "HBox(children=(HTML(value='Extraction completed...'), FloatProgress(value=1.0, bar_style='info', layout=Layout…"
      ]
     },
     "metadata": {},
     "output_type": "display_data"
    },
    {
     "name": "stdout",
     "output_type": "stream",
     "text": [
      "\n",
      "\n",
      "\n",
      "\n",
      "\n",
      "\n"
     ]
    },
    {
     "data": {
      "application/vnd.jupyter.widget-view+json": {
       "model_id": "",
       "version_major": 2,
       "version_minor": 0
      },
      "text/plain": [
       "HBox(children=(HTML(value='Generating splits...'), FloatProgress(value=0.0, max=3.0), HTML(value='')))"
      ]
     },
     "metadata": {},
     "output_type": "display_data"
    },
    {
     "data": {
      "application/vnd.jupyter.widget-view+json": {
       "model_id": "",
       "version_major": 2,
       "version_minor": 0
      },
      "text/plain": [
       "HBox(children=(HTML(value='Generating train examples...'), FloatProgress(value=0.0, max=51785.0), HTML(value='…"
      ]
     },
     "metadata": {},
     "output_type": "display_data"
    },
    {
     "data": {
      "application/vnd.jupyter.widget-view+json": {
       "model_id": "",
       "version_major": 2,
       "version_minor": 0
      },
      "text/plain": [
       "HBox(children=(HTML(value='Shuffling ted_hrlr_translate-train.tfrecord...'), FloatProgress(value=0.0, max=5178…"
      ]
     },
     "metadata": {},
     "output_type": "display_data"
    },
    {
     "data": {
      "application/vnd.jupyter.widget-view+json": {
       "model_id": "",
       "version_major": 2,
       "version_minor": 0
      },
      "text/plain": [
       "HBox(children=(HTML(value='Generating validation examples...'), FloatProgress(value=0.0, max=1193.0), HTML(val…"
      ]
     },
     "metadata": {},
     "output_type": "display_data"
    },
    {
     "data": {
      "application/vnd.jupyter.widget-view+json": {
       "model_id": "",
       "version_major": 2,
       "version_minor": 0
      },
      "text/plain": [
       "HBox(children=(HTML(value='Shuffling ted_hrlr_translate-validation.tfrecord...'), FloatProgress(value=0.0, max…"
      ]
     },
     "metadata": {},
     "output_type": "display_data"
    },
    {
     "data": {
      "application/vnd.jupyter.widget-view+json": {
       "model_id": "",
       "version_major": 2,
       "version_minor": 0
      },
      "text/plain": [
       "HBox(children=(HTML(value='Generating test examples...'), FloatProgress(value=0.0, max=1803.0), HTML(value='')…"
      ]
     },
     "metadata": {},
     "output_type": "display_data"
    },
    {
     "data": {
      "application/vnd.jupyter.widget-view+json": {
       "model_id": "",
       "version_major": 2,
       "version_minor": 0
      },
      "text/plain": [
       "HBox(children=(HTML(value='Shuffling ted_hrlr_translate-test.tfrecord...'), FloatProgress(value=0.0, max=1803.…"
      ]
     },
     "metadata": {},
     "output_type": "display_data"
    },
    {
     "name": "stdout",
     "output_type": "stream",
     "text": [
      "\u001b[1mDataset ted_hrlr_translate downloaded and prepared to /Users/kazuki/tensorflow_datasets/ted_hrlr_translate/pt_to_en/1.0.0. Subsequent calls will reuse this data.\u001b[0m\n"
     ]
    }
   ],
   "source": [
    "examples, metadata = tfds.load('ted_hrlr_translate/pt_to_en', with_info=True, as_supervised=True)\n",
    "    \n",
    "train_examples, val_examples = examples['train'], examples['validation']"
   ]
  },
  {
   "cell_type": "code",
   "execution_count": 3,
   "metadata": {},
   "outputs": [
    {
     "name": "stdout",
     "output_type": "stream",
     "text": [
      "(<tf.Tensor: shape=(), dtype=string, numpy=b'e quando melhoramos a procura , tiramos a \\xc3\\xbanica vantagem da impress\\xc3\\xa3o , que \\xc3\\xa9 a serendipidade .'>, <tf.Tensor: shape=(), dtype=string, numpy=b'and when you improve searchability , you actually take away the one advantage of print , which is serendipity .'>)\n"
     ]
    }
   ],
   "source": [
    "# trainサンプルの表示\n",
    "for i in train_examples:\n",
    "    print(i)\n",
    "    break"
   ]
  },
  {
   "cell_type": "markdown",
   "metadata": {},
   "source": [
    "### トークナイザー"
   ]
  },
  {
   "cell_type": "code",
   "execution_count": 4,
   "metadata": {},
   "outputs": [],
   "source": [
    "tokenizer_en = tfds.deprecated.text.SubwordTextEncoder.build_from_corpus(\n",
    "    (en.numpy() for pt, en in train_examples), target_vocab_size=2**13)\n",
    "\n",
    "tokenizer_pt = tfds.deprecated.text.SubwordTextEncoder.build_from_corpus(\n",
    "    (pt.numpy() for pt, en in train_examples), target_vocab_size=2**13)"
   ]
  },
  {
   "cell_type": "code",
   "execution_count": 5,
   "metadata": {},
   "outputs": [
    {
     "name": "stdout",
     "output_type": "stream",
     "text": [
      "Tokenized string is [7915, 1248, 7946, 7194, 13, 2799, 7877]\n",
      "The original string: Transformer is awesome.\n"
     ]
    }
   ],
   "source": [
    "sample_string = 'Transformer is awesome.'\n",
    "\n",
    "tokenized_string = tokenizer_en.encode(sample_string)\n",
    "print('Tokenized string is {}'.format(tokenized_string))\n",
    "\n",
    "original_string = tokenizer_en.decode(tokenized_string)\n",
    "print('The original string: {}'.format(original_string))\n",
    "\n",
    "assert original_string == sample_string"
   ]
  },
  {
   "cell_type": "code",
   "execution_count": 6,
   "metadata": {},
   "outputs": [
    {
     "name": "stdout",
     "output_type": "stream",
     "text": [
      "7915 ----> T\n",
      "1248 ----> ran\n",
      "7946 ----> s\n",
      "7194 ----> former \n",
      "13 ----> is \n",
      "2799 ----> awesome\n",
      "7877 ----> .\n"
     ]
    }
   ],
   "source": [
    "for ts in tokenized_string:\n",
    "    print('{} ----> {}'.format(ts, tokenizer_en.decode([ts])))"
   ]
  },
  {
   "cell_type": "code",
   "execution_count": 7,
   "metadata": {},
   "outputs": [],
   "source": [
    "BUFFER_SIZE = 20000\n",
    "BATCH_SIZE = 64\n",
    "MAX_LENGTH = 40"
   ]
  },
  {
   "cell_type": "code",
   "execution_count": 8,
   "metadata": {},
   "outputs": [],
   "source": [
    "def encode(lang1, lang2):\n",
    "    lang1 = [tokenizer_pt.vocab_size] + tokenizer_pt.encode(lang1.numpy()) + [tokenizer_pt.vocab_size+1]\n",
    "    \n",
    "    lang2 = [tokenizer_en.vocab_size] + tokenizer_en.encode(lang2.numpy()) + [tokenizer_en.vocab_size+1]\n",
    "    \n",
    "    return lang1, lang2"
   ]
  },
  {
   "cell_type": "code",
   "execution_count": 9,
   "metadata": {},
   "outputs": [],
   "source": [
    "def tf_encode(pt, en):\n",
    "    result_pt, result_en = tf.py_function(encode, [pt, en], [tf.int64, tf.int64])\n",
    "    \n",
    "    result_pt.set_shape([None])\n",
    "    result_en.set_shape([None])\n",
    "    \n",
    "    return result_pt, result_en"
   ]
  },
  {
   "cell_type": "code",
   "execution_count": 10,
   "metadata": {},
   "outputs": [],
   "source": [
    "def filter_max_length(x, y, max_length=MAX_LENGTH):\n",
    "    \n",
    "    return tf.logical_and(tf.size(x) <= max_length,tf.size(y) <= max_length)"
   ]
  },
  {
   "cell_type": "code",
   "execution_count": 11,
   "metadata": {},
   "outputs": [],
   "source": [
    "train_preprocessed = (train_examples\n",
    "                      .map(tf_encode)\n",
    "                      .filter(filter_max_length)\n",
    "                      # 読み取り時のスピードアップのため、データセットをメモリ上にキャッシュする\n",
    "                      .cache()\n",
    "                      .shuffle(BUFFER_SIZE))\n",
    "\n",
    "val_preprocessed = (val_examples\n",
    "                    .map(tf_encode)\n",
    "                    .filter(filter_max_length))"
   ]
  },
  {
   "cell_type": "code",
   "execution_count": 12,
   "metadata": {},
   "outputs": [],
   "source": [
    "train_dataset = (train_preprocessed\n",
    "                 .padded_batch(BATCH_SIZE, padded_shapes=([None], [None]))\n",
    "                 .prefetch(tf.data.experimental.AUTOTUNE))\n",
    "\n",
    "val_dataset = (val_preprocessed\n",
    "               .padded_batch(BATCH_SIZE,  padded_shapes=([None], [None])))"
   ]
  },
  {
   "cell_type": "code",
   "execution_count": 13,
   "metadata": {},
   "outputs": [
    {
     "data": {
      "text/plain": [
       "(<tf.Tensor: shape=(64, 38), dtype=int64, numpy=\n",
       " array([[8214,  342, 3032, ...,    0,    0,    0],\n",
       "        [8214,   95,  198, ...,    0,    0,    0],\n",
       "        [8214, 4479, 7990, ...,    0,    0,    0],\n",
       "        ...,\n",
       "        [8214,  584,   12, ...,    0,    0,    0],\n",
       "        [8214,   59, 1548, ...,    0,    0,    0],\n",
       "        [8214,  118,   34, ...,    0,    0,    0]])>,\n",
       " <tf.Tensor: shape=(64, 40), dtype=int64, numpy=\n",
       " array([[8087,   98,   25, ...,    0,    0,    0],\n",
       "        [8087,   12,   20, ...,    0,    0,    0],\n",
       "        [8087,   12, 5453, ...,    0,    0,    0],\n",
       "        ...,\n",
       "        [8087,   18, 2059, ...,    0,    0,    0],\n",
       "        [8087,   16, 1436, ...,    0,    0,    0],\n",
       "        [8087,   15,   57, ...,    0,    0,    0]])>)"
      ]
     },
     "execution_count": 13,
     "metadata": {},
     "output_type": "execute_result"
    }
   ],
   "source": [
    "# サンプリング\n",
    "pt_batch, en_batch = next(iter(val_dataset))\n",
    "pt_batch, en_batch"
   ]
  },
  {
   "cell_type": "markdown",
   "metadata": {},
   "source": [
    "## 位置エンコーディング"
   ]
  },
  {
   "cell_type": "code",
   "execution_count": 14,
   "metadata": {},
   "outputs": [],
   "source": [
    "def get_angles(pos, i, d_model):\n",
    "    angle_rates = 1 / np.power(10000, (2 * (i//2))/np.float32(d_model))\n",
    "    \n",
    "    return pos * angle_rates\n",
    "\n",
    "def positional_encoding(position, d_model):\n",
    "    angle_rads = get_angles(np.arange(position)[:, np.newaxis],\n",
    "                            np.arange(d_model)[np.newaxis, :],\n",
    "                            d_model)\n",
    "    \n",
    "    # 配列中の偶数インデックスにはsinを適用; 2i\n",
    "    angle_rads[:, 0::2] = np.sin(angle_rads[:, 0::2])\n",
    "    \n",
    "    # 配列中の奇数インデックスにはcosを適用; 2i+1\n",
    "    angle_rads[:, 1::2] = np.cos(angle_rads[:, 1::2])\n",
    "    \n",
    "    pos_encoding = angle_rads[np.newaxis, ...]\n",
    "    \n",
    "    return tf.cast(pos_encoding, dtype=tf.float32)"
   ]
  },
  {
   "cell_type": "code",
   "execution_count": 15,
   "metadata": {},
   "outputs": [
    {
     "name": "stdout",
     "output_type": "stream",
     "text": [
      "(1, 512, 512)\n"
     ]
    },
    {
     "data": {
      "image/png": "[encoded data removed]",
      "text/plain": [
       "<Figure size 432x288 with 2 Axes>"
      ]
     },
     "metadata": {
      "needs_background": "light"
     },
     "output_type": "display_data"
    }
   ],
   "source": [
    "pos_encoding = positional_encoding(512, 512)\n",
    "print (pos_encoding.shape)\n",
    "\n",
    "plt.pcolormesh(pos_encoding[0], cmap='RdBu')\n",
    "plt.xlabel('Depth')\n",
    "plt.xlim((0, 512))\n",
    "plt.ylabel('Position')\n",
    "plt.colorbar()\n",
    "plt.show()"
   ]
  },
  {
   "cell_type": "markdown",
   "metadata": {},
   "source": [
    "## マスキング\n",
    "シーケンスのバッチ中のパディングされた全てのトークンをマスクします。  \n",
    "これにより、モデルがパディングを確実に入力として扱わないようにします。  \n",
    "マスクは、パディング値0の存在を示します。つまり、0の場所で1を出力し、それ以外の場所では0を出力します。"
   ]
  },
  {
   "cell_type": "code",
   "execution_count": 16,
   "metadata": {},
   "outputs": [],
   "source": [
    "def create_padding_mask(seq):\n",
    "    seq = tf.cast(tf.math.equal(seq, 0), tf.float32)\n",
    "    \n",
    "    # アテンション・ロジットにパディングを追加するため\n",
    "    # さらに次元を追加する\n",
    "    return seq[:, tf.newaxis, tf.newaxis, :]  # (batch_size, 1, 1, seq_len)"
   ]
  },
  {
   "cell_type": "code",
   "execution_count": 17,
   "metadata": {},
   "outputs": [
    {
     "data": {
      "text/plain": [
       "<tf.Tensor: shape=(3, 1, 1, 5), dtype=float32, numpy=\n",
       "array([[[[0., 0., 1., 1., 0.]]],\n",
       "\n",
       "\n",
       "       [[[0., 0., 0., 1., 1.]]],\n",
       "\n",
       "\n",
       "       [[[1., 1., 1., 0., 0.]]]], dtype=float32)>"
      ]
     },
     "execution_count": 17,
     "metadata": {},
     "output_type": "execute_result"
    }
   ],
   "source": [
    "x = tf.constant([[7, 6, 0, 0, 1], [1, 2, 3, 0, 0], [0, 0, 0, 4, 5]])\n",
    "create_padding_mask(x)"
   ]
  },
  {
   "cell_type": "code",
   "execution_count": 18,
   "metadata": {},
   "outputs": [],
   "source": [
    "def create_look_ahead_mask(size):\n",
    "    mask = 1 - tf.linalg.band_part(tf.ones((size, size)), -1, 0)\n",
    "    \n",
    "    return mask  # (seq_len, seq_len)"
   ]
  },
  {
   "cell_type": "code",
   "execution_count": 19,
   "metadata": {},
   "outputs": [
    {
     "data": {
      "text/plain": [
       "<tf.Tensor: shape=(3, 3), dtype=float32, numpy=\n",
       "array([[0., 1., 1.],\n",
       "       [0., 0., 1.],\n",
       "       [0., 0., 0.]], dtype=float32)>"
      ]
     },
     "execution_count": 19,
     "metadata": {},
     "output_type": "execute_result"
    }
   ],
   "source": [
    "x = tf.random.uniform((1, 3))\n",
    "temp = create_look_ahead_mask(x.shape[1])\n",
    "temp"
   ]
  },
  {
   "cell_type": "markdown",
   "metadata": {},
   "source": [
    "## スケール済み内積アテンション"
   ]
  },
  {
   "cell_type": "code",
   "execution_count": 20,
   "metadata": {},
   "outputs": [],
   "source": [
    "def scaled_dot_product_attention(q, k, v, mask):\n",
    "    \"\"\"\n",
    "    アテンションの重みの計算\n",
    "    q, k, vは最初の次元が一致していること\n",
    "    k, vは最後から2番めの次元が一致していること\n",
    "    マスクは型（パディングかルックアヘッドか）によって異なるshapeを持つが、加算の際にブロードキャスト可能であること\n",
    "    \n",
    "    引数：\n",
    "    q: query shape == (..., seq_len_q, depth)\n",
    "    k: key shape == (..., seq_len_k, depth)\n",
    "    v: value shape == (..., seq_len_v, depth_v)\n",
    "    mask: (..., seq_len_q, seq_len_k) にブロードキャスト可能なshapeを持つ浮動小数点テンソル。既定値はNone\n",
    "    \n",
    "    戻り値：\n",
    "    出力、アテンションの重み\n",
    "    \"\"\"\n",
    "    \n",
    "    matmul_qk = tf.matmul(q, k, transpose_b=True)  # (..., seq_len_q, seq_len_k)\n",
    "    \n",
    "    # matmul_qkをスケール\n",
    "    dk = tf.cast(tf.shape(k)[-1], tf.float32)\n",
    "    scaled_attention_logits = matmul_qk / tf.math.sqrt(dk)\n",
    "    \n",
    "    # マスクをスケール済みテンソルに加算\n",
    "    if mask is not None:\n",
    "        scaled_attention_logits += (mask * -1e9)  \n",
    "        \n",
    "    # softmax は最後の軸(seq_len_k)について\n",
    "    # 合計が1となるように正規化\n",
    "    attention_weights = tf.nn.softmax(scaled_attention_logits, axis=-1)  # (..., seq_len_q, seq_len_k)\n",
    "    \n",
    "    output = tf.matmul(attention_weights, v)  # (..., seq_len_q, depth_v)\n",
    "    \n",
    "    return output, attention_weights\n",
    "\n",
    "def print_out(q, k, v):\n",
    "    temp_out, temp_attn = scaled_dot_product_attention(q, k, v, None)\n",
    "    \n",
    "    print ('Attention weights are:')\n",
    "    print (temp_attn)\n",
    "    print ('Output is:')\n",
    "    print (temp_out)"
   ]
  },
  {
   "cell_type": "code",
   "execution_count": 21,
   "metadata": {},
   "outputs": [
    {
     "name": "stdout",
     "output_type": "stream",
     "text": [
      "Attention weights are:\n",
      "tf.Tensor([[0. 1. 0. 0.]], shape=(1, 4), dtype=float32)\n",
      "Output is:\n",
      "tf.Tensor([[10.  0.]], shape=(1, 2), dtype=float32)\n"
     ]
    }
   ],
   "source": [
    "np.set_printoptions(suppress=True)\n",
    "\n",
    "temp_k = tf.constant([[10, 0, 0],\n",
    "                      [ 0,10, 0],\n",
    "                      [ 0, 0,10],\n",
    "                      [ 0, 0,10]],\n",
    "                     dtype=tf.float32)  # (4, 3)\n",
    "\n",
    "temp_v = tf.constant([[   1,0],\n",
    "                      [  10,0],\n",
    "                      [ 100,5],\n",
    "                      [1000,6]],\n",
    "                     dtype=tf.float32)  # (4, 2)\n",
    "\n",
    "# この`query`は2番目の`key`に割り付けられているので\n",
    "# 2番めの`value`が返される\n",
    "temp_q = tf.constant([[0, 10, 0]], dtype=tf.float32)  # (1, 3)\n",
    "print_out(temp_q, temp_k, temp_v)"
   ]
  },
  {
   "cell_type": "code",
   "execution_count": 22,
   "metadata": {},
   "outputs": [
    {
     "name": "stdout",
     "output_type": "stream",
     "text": [
      "Attention weights are:\n",
      "tf.Tensor([[0.  0.  0.5 0.5]], shape=(1, 4), dtype=float32)\n",
      "Output is:\n",
      "tf.Tensor([[550.    5.5]], shape=(1, 2), dtype=float32)\n"
     ]
    }
   ],
   "source": [
    "# このクエリは（3番目と 4番目の）繰り返しキーに割り付けられるので\n",
    "# 関連した全ての値が平均される\n",
    "temp_q = tf.constant([[0, 0, 10]], dtype=tf.float32)  # (1, 3)\n",
    "print_out(temp_q, temp_k, temp_v)"
   ]
  },
  {
   "cell_type": "code",
   "execution_count": 23,
   "metadata": {},
   "outputs": [
    {
     "name": "stdout",
     "output_type": "stream",
     "text": [
      "Attention weights are:\n",
      "tf.Tensor([[0.5 0.5 0.  0. ]], shape=(1, 4), dtype=float32)\n",
      "Output is:\n",
      "tf.Tensor([[5.5 0. ]], shape=(1, 2), dtype=float32)\n"
     ]
    }
   ],
   "source": [
    "# このクエリは最初と2番めのキーに等しく割り付けられるので\n",
    "# それらの値が平均される\n",
    "temp_q = tf.constant([[10, 10, 0]], dtype=tf.float32)  # (1, 3)\n",
    "print_out(temp_q, temp_k, temp_v)"
   ]
  },
  {
   "cell_type": "markdown",
   "metadata": {},
   "source": [
    "## マルチヘッド・アテンション\n",
    "- 線形レイヤーとマルチヘッドの分割\n",
    "- スケール済み内積アテンション\n",
    "- マルチヘッドの結合\n",
    "- 最終線形レイヤー"
   ]
  },
  {
   "cell_type": "code",
   "execution_count": 24,
   "metadata": {},
   "outputs": [],
   "source": [
    "class MultiHeadAttention(tf.keras.layers.Layer):\n",
    "    \n",
    "    def __init__(self, d_model, num_heads):\n",
    "        super(MultiHeadAttention, self).__init__()\n",
    "        \n",
    "        self.d_model = d_model\n",
    "        self.num_heads = num_heads\n",
    "        \n",
    "        assert d_model % self.num_heads == 0\n",
    "        \n",
    "        self.depth = d_model // self.num_heads\n",
    "        \n",
    "        self.wq = tf.keras.layers.Dense(d_model)\n",
    "        self.wk = tf.keras.layers.Dense(d_model)\n",
    "        self.wv = tf.keras.layers.Dense(d_model)\n",
    "        \n",
    "        self.dense = tf.keras.layers.Dense(d_model)\n",
    "        \n",
    "    def split_heads(self, x, batch_size):\n",
    "        \"\"\"\n",
    "        最後の次元を(num_heads, depth)に分割。\n",
    "        結果をshapeが(batch_size, num_heads, seq_len, depth)となるようにリシェイプする。\n",
    "        \"\"\"\n",
    "        x = tf.reshape(x, (batch_size, -1, self.num_heads, self.depth))\n",
    "        return tf.transpose(x, perm=[0, 2, 1, 3])\n",
    "    \n",
    "    def call(self, v, k, q, mask):\n",
    "        batch_size = tf.shape(q)[0]\n",
    "        \n",
    "        q = self.wq(q)  # (batch_size, seq_len, d_model)\n",
    "        k = self.wk(k)  # (batch_size, seq_len, d_model)\n",
    "        v = self.wv(v)  # (batch_size, seq_len, d_model)\n",
    "        \n",
    "        q = self.split_heads(q, batch_size)  # (batch_size, num_heads, seq_len_q, depth)\n",
    "        k = self.split_heads(k, batch_size)  # (batch_size, num_heads, seq_len_k, depth)\n",
    "        v = self.split_heads(v, batch_size)  # (batch_size, num_heads, seq_len_v, depth)\n",
    "        \n",
    "        # scaled_attention.shape = (batch_size, num_heads, seq_len_q, depth)\n",
    "        # attention_weights.shape == (batch_size, num_heads, seq_len_q, seq_len_k)\n",
    "        scaled_attention, attention_weights = \\\n",
    "        scaled_dot_product_attention(q, k, v, mask)\n",
    "        \n",
    "        # scaled_attention.shape = (batch_size, seq_len_q, num_heads, depth)\n",
    "        scaled_attention = tf.transpose(scaled_attention, perm=[0, 2, 1, 3])\n",
    "        \n",
    "        # (batch_size, seq_len_q, d_model)\n",
    "        concat_attention = tf.reshape(scaled_attention, (batch_size, -1, self.d_model)) \n",
    "        \n",
    "        # (batch_size, seq_len_q, d_model)\n",
    "        output = self.dense(concat_attention)\n",
    "        \n",
    "        return output, attention_weights"
   ]
  },
  {
   "cell_type": "code",
   "execution_count": 25,
   "metadata": {},
   "outputs": [
    {
     "name": "stdout",
     "output_type": "stream",
     "text": [
      "(1, 60, 512) (1, 8, 60, 60)\n"
     ]
    }
   ],
   "source": [
    "temp_mha = MultiHeadAttention(d_model=512, num_heads=8)\n",
    "\n",
    "y = tf.random.uniform((1, 60, 512))  # (batch_size, encoder_sequence, d_model)\n",
    "out, attn = temp_mha(y, k=y, q=y, mask=None)\n",
    "print(out.shape, attn.shape)"
   ]
  },
  {
   "cell_type": "markdown",
   "metadata": {},
   "source": [
    "## ポイントワイズ・フィードフォワード・ネットワーク"
   ]
  },
  {
   "cell_type": "code",
   "execution_count": 26,
   "metadata": {},
   "outputs": [],
   "source": [
    "def point_wise_feed_forward_network(d_model, dff):\n",
    "    return tf.keras.Sequential([\n",
    "      tf.keras.layers.Dense(dff, activation='relu'),  # (batch_size, seq_len, dff)\n",
    "      tf.keras.layers.Dense(d_model)  # (batch_size, seq_len, d_model)\n",
    "  ])"
   ]
  },
  {
   "cell_type": "code",
   "execution_count": 27,
   "metadata": {},
   "outputs": [
    {
     "data": {
      "text/plain": [
       "TensorShape([64, 50, 512])"
      ]
     },
     "execution_count": 27,
     "metadata": {},
     "output_type": "execute_result"
    }
   ],
   "source": [
    "sample_ffn = point_wise_feed_forward_network(512, 2048)\n",
    "sample_ffn(tf.random.uniform((64, 50, 512))).shape"
   ]
  },
  {
   "cell_type": "markdown",
   "metadata": {},
   "source": [
    "## エンコードレイヤー"
   ]
  },
  {
   "cell_type": "code",
   "execution_count": 28,
   "metadata": {},
   "outputs": [],
   "source": [
    "class EncoderLayer(tf.keras.layers.Layer):\n",
    "    def __init__(self, d_model, num_heads, dff, rate=0.1):\n",
    "        super(EncoderLayer, self).__init__()\n",
    "        \n",
    "        self.mha = MultiHeadAttention(d_model, num_heads)\n",
    "        self.ffn = point_wise_feed_forward_network(d_model, dff)\n",
    "        \n",
    "        self.layernorm1 = tf.keras.layers.LayerNormalization(epsilon=1e-6)\n",
    "        self.layernorm2 = tf.keras.layers.LayerNormalization(epsilon=1e-6)\n",
    "        \n",
    "        self.dropout1 = tf.keras.layers.Dropout(rate)\n",
    "        self.dropout2 = tf.keras.layers.Dropout(rate)\n",
    "        \n",
    "    def call(self, x, training, mask):\n",
    "        # Multi-Head-Attention\n",
    "        attn_output, _ = self.mha(x, x, x, mask)\n",
    "        # Dropout layer\n",
    "        attn_output = self.dropout1(attn_output, training=training)\n",
    "        # Layer Normalization(ResidualNet)\n",
    "        out1 = self.layernorm1(x + attn_output)  \n",
    "        # Point-wise FFN\n",
    "        ffn_output = self.ffn(out1)\n",
    "        \n",
    "        ffn_output = self.dropout2(ffn_output, training=training)\n",
    "        out2 = self.layernorm2(out1 + ffn_output)\n",
    "        \n",
    "        \n",
    "        return out2"
   ]
  },
  {
   "cell_type": "code",
   "execution_count": 29,
   "metadata": {},
   "outputs": [
    {
     "name": "stdout",
     "output_type": "stream",
     "text": [
      "(64, 43, 512)\n"
     ]
    }
   ],
   "source": [
    "sample_encoder_layer = EncoderLayer(512, 8, 2048)\n",
    "\n",
    "sample_encoder_layer_output = \\\n",
    "sample_encoder_layer(tf.random.uniform((64, 43, 512)), False, None)\n",
    "\n",
    "print(sample_encoder_layer_output.shape)"
   ]
  },
  {
   "cell_type": "markdown",
   "metadata": {},
   "source": [
    "## デコーダーレイヤー"
   ]
  },
  {
   "cell_type": "code",
   "execution_count": 30,
   "metadata": {},
   "outputs": [],
   "source": [
    "class DecoderLayer(tf.keras.layers.Layer):\n",
    "    def __init__(self, d_model, num_heads, dff, rate=0.1):\n",
    "        super(DecoderLayer, self).__init__()\n",
    "        \n",
    "        self.mha1 = MultiHeadAttention(d_model, num_heads)\n",
    "        self.mha2 = MultiHeadAttention(d_model, num_heads)\n",
    "        \n",
    "        self.ffn = point_wise_feed_forward_network(d_model, dff)\n",
    "        \n",
    "        self.layernorm1 = tf.keras.layers.LayerNormalization(epsilon=1e-6)\n",
    "        self.layernorm2 = tf.keras.layers.LayerNormalization(epsilon=1e-6)\n",
    "        self.layernorm3 = tf.keras.layers.LayerNormalization(epsilon=1e-6)\n",
    "        \n",
    "        self.dropout1 = tf.keras.layers.Dropout(rate)\n",
    "        self.dropout2 = tf.keras.layers.Dropout(rate)\n",
    "        self.dropout3 = tf.keras.layers.Dropout(rate)\n",
    "        \n",
    "    def call(self, x, enc_output, training, look_ahead_mask, padding_mask):\n",
    "        # enc_output.shape = (batch_size, input_seq_len, d_model)\n",
    "        \n",
    "        attn1, attn_weights_block1 = \\\n",
    "        self.mha1(x, x, x, look_ahead_mask)\n",
    "        \n",
    "        attn1 = self.dropout1(attn1, training=training)\n",
    "        out1 = self.layernorm1(attn1 + x)\n",
    "        \n",
    "        attn2, attn_weights_block2 = \\\n",
    "        self.mha2(enc_output, enc_output, out1, padding_mask)\n",
    "        \n",
    "        attn2 = self.dropout2(attn2, training=training)\n",
    "        out2 = self.layernorm2(attn2 + out1)\n",
    "        \n",
    "        ffn_output = self.ffn(out2)\n",
    "        ffn_output = self.dropout3(ffn_output, training=training)\n",
    "        out3 = self.layernorm3(ffn_output + out2)\n",
    "        \n",
    "        return out3, attn_weights_block1, attn_weights_block2"
   ]
  },
  {
   "cell_type": "code",
   "execution_count": 31,
   "metadata": {},
   "outputs": [
    {
     "name": "stdout",
     "output_type": "stream",
     "text": [
      "(64, 50, 512)\n"
     ]
    }
   ],
   "source": [
    "sample_decoder_layer = DecoderLayer(512, 8, 2048)\n",
    "\n",
    "sample_decoder_layer_output, _, _ = \\\n",
    "sample_decoder_layer(tf.random.uniform((64, 50, 512)),\n",
    "                     sample_encoder_layer_output, \n",
    "                     False, None, None)\n",
    "\n",
    "print(sample_decoder_layer_output.shape)"
   ]
  },
  {
   "cell_type": "markdown",
   "metadata": {},
   "source": [
    "## エンコーダー\n",
    "- 入力の埋め込み\n",
    "- 位置エンコーディング\n",
    "- N層のエンコーダレイヤー"
   ]
  },
  {
   "cell_type": "code",
   "execution_count": 32,
   "metadata": {},
   "outputs": [],
   "source": [
    "class Encoder(tf.keras.layers.Layer):\n",
    "    def __init__(self,num_layers, d_model, num_heads, dff,\n",
    "                 input_vocab_size,maximum_position_encoding, rate=0.1):\n",
    "        \n",
    "        super(Encoder, self).__init__()\n",
    "        \n",
    "        self.num_layers = num_layers\n",
    "        self.d_model = d_model\n",
    "        \n",
    "        self.embedding = tf.keras.layers.Embedding(input_vocab_size, d_model)\n",
    "        \n",
    "        self.pos_encoding = \\\n",
    "        positional_encoding(maximum_position_encoding, self.d_model)\n",
    "        \n",
    "        self.enc_layers = \\\n",
    "        [EncoderLayer(d_model, num_heads, dff, rate) for _ in range(num_layers)]\n",
    "        \n",
    "        self.dropout = tf.keras.layers.Dropout(rate)\n",
    "        \n",
    "    def call(self, x, training, mask):\n",
    "        seq_len = tf.shape(x)[1]\n",
    "        \n",
    "        # 埋め込みと位置エンコーディングを合算する\n",
    "        x = self.embedding(x)\n",
    "        x *= tf.math.sqrt(tf.cast(self.d_model, tf.float32))\n",
    "        x += self.pos_encoding[:, :seq_len, :]\n",
    "        \n",
    "        x = self.dropout(x, training=training)\n",
    "        \n",
    "        for i in range(self.num_layers):\n",
    "            x = self.enc_layers[i](x, training, mask)\n",
    "            \n",
    "        return x"
   ]
  },
  {
   "cell_type": "code",
   "execution_count": 33,
   "metadata": {},
   "outputs": [
    {
     "name": "stdout",
     "output_type": "stream",
     "text": [
      "(64, 62, 512)\n"
     ]
    }
   ],
   "source": [
    "sample_encoder = Encoder(num_layers=2, d_model=512, num_heads=8, dff=2048,\n",
    "                         input_vocab_size=8500, maximum_position_encoding=10000)\n",
    "\n",
    "temp_input = tf.random.uniform((64, 62), dtype=tf.int64, minval=0, maxval=200)\n",
    "\n",
    "sample_encoder_output = sample_encoder(temp_input, training=False, mask=None)\n",
    "\n",
    "print (sample_encoder_output.shape)"
   ]
  },
  {
   "cell_type": "markdown",
   "metadata": {},
   "source": [
    "## デコーダー\n",
    "- 出力埋め込み\n",
    "- 位置エンコーディング\n",
    "- N層のデコーダレイヤー"
   ]
  },
  {
   "cell_type": "code",
   "execution_count": 34,
   "metadata": {},
   "outputs": [],
   "source": [
    "class Decoder(tf.keras.layers.Layer):\n",
    "    def __init__(self, num_layers, d_model, num_heads, dff,\n",
    "                 target_vocab_size,maximum_position_encoding, rate=0.1):\n",
    "        \n",
    "        super(Decoder, self).__init__()\n",
    "        \n",
    "        self.num_layers = num_layers\n",
    "        self.d_model = d_model\n",
    "        \n",
    "        self.embedding = tf.keras.layers.Embedding(target_vocab_size, d_model)\n",
    "        self.pos_encoding = positional_encoding(maximum_position_encoding, d_model)\n",
    "        \n",
    "        self.dec_layers = \\\n",
    "        [DecoderLayer(d_model, num_heads, dff, rate) for _ in range(num_layers)]\n",
    "        \n",
    "        self.dropout = tf.keras.layers.Dropout(rate)\n",
    "        \n",
    "    def call(self, x, enc_output, training, look_ahead_mask, padding_mask):\n",
    "        seq_len = tf.shape(x)[1]\n",
    "        \n",
    "        attention_weights = {}\n",
    "        \n",
    "        x = self.embedding(x) \n",
    "        x *= tf.math.sqrt(tf.cast(self.d_model, tf.float32))\n",
    "        x += self.pos_encoding[:, :seq_len, :]\n",
    "        \n",
    "        x = self.dropout(x, training=training)\n",
    "        \n",
    "        for i in range(self.num_layers):\n",
    "            x, block1, block2 = \\\n",
    "            self.dec_layers[i](x, enc_output, training,look_ahead_mask, padding_mask)\n",
    "            \n",
    "            attention_weights['decoder_layer{}_block1'.format(i+1)] = block1\n",
    "            attention_weights['decoder_layer{}_block2'.format(i+1)] = block2\n",
    "        \n",
    "        return x, attention_weights"
   ]
  },
  {
   "cell_type": "code",
   "execution_count": 35,
   "metadata": {},
   "outputs": [
    {
     "name": "stdout",
     "output_type": "stream",
     "text": [
      "(64, 26, 512) (64, 8, 26, 62)\n"
     ]
    }
   ],
   "source": [
    "sample_decoder = Decoder(num_layers=2, d_model=512, num_heads=8, dff=2048,\n",
    "                         target_vocab_size=8000, maximum_position_encoding=5000)\n",
    "\n",
    "temp_input = tf.random.uniform((64, 26), dtype=tf.int64, minval=0, maxval=200)\n",
    "\n",
    "output, attn = sample_decoder(temp_input, \n",
    "                              enc_output=sample_encoder_output, \n",
    "                              training=False,\n",
    "                              look_ahead_mask=None, \n",
    "                              padding_mask=None)\n",
    "\n",
    "print(output.shape, attn['decoder_layer2_block2'].shape)"
   ]
  },
  {
   "cell_type": "markdown",
   "metadata": {},
   "source": [
    "## Transformer"
   ]
  },
  {
   "cell_type": "code",
   "execution_count": 36,
   "metadata": {},
   "outputs": [],
   "source": [
    "class Transformer(tf.keras.Model):\n",
    "    def __init__(self, num_layers, d_model, num_heads, dff, input_vocab_size, \n",
    "               target_vocab_size, pe_input, pe_target, rate=0.1):\n",
    "        \n",
    "        super(Transformer, self).__init__()\n",
    "        \n",
    "        self.encoder = Encoder(num_layers, d_model, num_heads, dff, \n",
    "                           input_vocab_size, pe_input, rate)\n",
    "        \n",
    "        self.decoder = Decoder(num_layers, d_model, num_heads, dff, \n",
    "                           target_vocab_size, pe_target, rate)\n",
    "        \n",
    "        self.final_layer = tf.keras.layers.Dense(target_vocab_size)\n",
    "\n",
    "    def call(self, inp, tar, training, enc_padding_mask, \n",
    "             look_ahead_mask, dec_padding_mask):\n",
    "        \n",
    "        enc_output = self.encoder(inp, training, enc_padding_mask)\n",
    "        \n",
    "        dec_output, attention_weights = \\\n",
    "        self.decoder(tar, enc_output, training, look_ahead_mask, dec_padding_mask)\n",
    "        \n",
    "        final_output = self.final_layer(dec_output)\n",
    "        \n",
    "        return final_output, attention_weights"
   ]
  },
  {
   "cell_type": "code",
   "execution_count": 37,
   "metadata": {},
   "outputs": [
    {
     "name": "stdout",
     "output_type": "stream",
     "text": [
      "(64, 36, 8000)\n"
     ]
    }
   ],
   "source": [
    "sample_transformer = Transformer(num_layers=2, d_model=512, num_heads=8, dff=2048, \n",
    "                                 input_vocab_size=8500, target_vocab_size=8000, \n",
    "                                 pe_input=10000, pe_target=6000)\n",
    "\n",
    "temp_input = tf.random.uniform((64, 38), dtype=tf.int64, minval=0, maxval=200)\n",
    "temp_target = tf.random.uniform((64, 36), dtype=tf.int64, minval=0, maxval=200)\n",
    "\n",
    "fn_out, _ = sample_transformer(temp_input, temp_target, training=False, \n",
    "                               enc_padding_mask=None, \n",
    "                               look_ahead_mask=None,\n",
    "                               dec_padding_mask=None)\n",
    "\n",
    "print(fn_out.shape)"
   ]
  },
  {
   "cell_type": "code",
   "execution_count": 38,
   "metadata": {},
   "outputs": [],
   "source": [
    "# ハイパーパラメータ\n",
    "num_layers = 4 # 6\n",
    "d_model = 128 # 512\n",
    "dff = 512 # 2048\n",
    "num_heads = 8\n",
    "\n",
    "input_vocab_size = tokenizer_pt.vocab_size + 2\n",
    "target_vocab_size = tokenizer_en.vocab_size + 2\n",
    "dropout_rate = 0.1"
   ]
  },
  {
   "cell_type": "markdown",
   "metadata": {},
   "source": [
    "## カスタムオプティマイザー"
   ]
  },
  {
   "cell_type": "code",
   "execution_count": 39,
   "metadata": {},
   "outputs": [],
   "source": [
    "class CustomSchedule(tf.keras.optimizers.schedules.LearningRateSchedule):\n",
    "    def __init__(self, d_model, warmup_steps=4000):\n",
    "        super(CustomSchedule, self).__init__()\n",
    "        \n",
    "        self.d_model = d_model\n",
    "        self.d_model = tf.cast(self.d_model, tf.float32)\n",
    "        \n",
    "        self.warmup_steps = warmup_steps\n",
    "    \n",
    "    def __call__(self, step):\n",
    "        arg1 = tf.math.rsqrt(step)\n",
    "        arg2 = step * (self.warmup_steps ** -1.5)\n",
    "        \n",
    "        return tf.math.rsqrt(self.d_model) * tf.math.minimum(arg1, arg2)"
   ]
  },
  {
   "cell_type": "code",
   "execution_count": 40,
   "metadata": {},
   "outputs": [],
   "source": [
    "learning_rate = CustomSchedule(d_model)\n",
    "\n",
    "optimizer = tf.keras.optimizers.Adam(learning_rate, beta_1=0.9, beta_2=0.98, \n",
    "                                     epsilon=1e-9)"
   ]
  },
  {
   "cell_type": "code",
   "execution_count": 41,
   "metadata": {},
   "outputs": [
    {
     "data": {
      "text/plain": [
       "Text(0.5, 0, 'Train Step')"
      ]
     },
     "execution_count": 41,
     "metadata": {},
     "output_type": "execute_result"
    },
    {
     "data": {
      "image/png": "[encoded data removed]",
      "text/plain": [
       "<Figure size 432x288 with 1 Axes>"
      ]
     },
     "metadata": {
      "needs_background": "light"
     },
     "output_type": "display_data"
    }
   ],
   "source": [
    "temp_learning_rate_schedule = CustomSchedule(d_model)\n",
    "\n",
    "plt.plot(temp_learning_rate_schedule(tf.range(40000, dtype=tf.float32)))\n",
    "plt.ylabel(\"Learning Rate\")\n",
    "plt.xlabel(\"Train Step\")"
   ]
  },
  {
   "cell_type": "markdown",
   "metadata": {},
   "source": [
    "## 損失関数と評価関数"
   ]
  },
  {
   "cell_type": "code",
   "execution_count": 42,
   "metadata": {},
   "outputs": [],
   "source": [
    "loss_object = \\\n",
    "tf.keras.losses.SparseCategoricalCrossentropy(from_logits=True, reduction='none')"
   ]
  },
  {
   "cell_type": "code",
   "execution_count": 43,
   "metadata": {},
   "outputs": [],
   "source": [
    "def loss_function(real, pred):\n",
    "    mask = tf.math.logical_not(tf.math.equal(real, 0))\n",
    "    loss_ = loss_object(real, pred)\n",
    "    \n",
    "    mask = tf.cast(mask, dtype=loss_.dtype)\n",
    "    loss_ *= mask\n",
    "    \n",
    "    return tf.reduce_mean(loss_)"
   ]
  },
  {
   "cell_type": "code",
   "execution_count": 44,
   "metadata": {},
   "outputs": [],
   "source": [
    "train_loss = tf.keras.metrics.Mean(name='train_loss')\n",
    "\n",
    "train_accuracy = \\\n",
    "tf.keras.metrics.SparseCategoricalAccuracy(name='train_accuracy')"
   ]
  },
  {
   "cell_type": "markdown",
   "metadata": {},
   "source": [
    "## モデルの訓練とチェックポイントの設定"
   ]
  },
  {
   "cell_type": "code",
   "execution_count": 45,
   "metadata": {},
   "outputs": [],
   "source": [
    "transformer = Transformer(num_layers, d_model, num_heads, dff,\n",
    "                          input_vocab_size, target_vocab_size, \n",
    "                          pe_input=input_vocab_size, \n",
    "                          pe_target=target_vocab_size,\n",
    "                          rate=dropout_rate)"
   ]
  },
  {
   "cell_type": "code",
   "execution_count": 46,
   "metadata": {},
   "outputs": [],
   "source": [
    "def create_masks(inp, tar):\n",
    "    # Encoderパディング・マスク\n",
    "    enc_padding_mask = create_padding_mask(inp)\n",
    "    \n",
    "    # デコーダーの 2つ目のアテンション・ブロックで使用\n",
    "    # このパディング・マスクはエンコーダーの出力をマスクするのに使用\n",
    "    dec_padding_mask = create_padding_mask(inp)\n",
    "    \n",
    "    # デコーダーの 1つ目のアテンション・ブロックで使用\n",
    "    # デコーダーが受け取った入力のパディングと将来のトークンをマスクするのに使用\n",
    "    look_ahead_mask = create_look_ahead_mask(tf.shape(tar)[1])\n",
    "    dec_target_padding_mask = create_padding_mask(tar)\n",
    "    combined_mask = tf.maximum(dec_target_padding_mask, look_ahead_mask)\n",
    "    \n",
    "    return enc_padding_mask, combined_mask, dec_padding_mask"
   ]
  },
  {
   "cell_type": "code",
   "execution_count": 47,
   "metadata": {},
   "outputs": [],
   "source": [
    "checkpoint_path = \"./checkpoints/train\"\n",
    "\n",
    "ckpt = tf.train.Checkpoint(transformer=transformer,\n",
    "                           optimizer=optimizer)\n",
    "\n",
    "ckpt_manager = tf.train.CheckpointManager(ckpt, checkpoint_path, max_to_keep=5)\n",
    "\n",
    "# チェックポイントが存在したなら、最後のチェックポイントを復元\n",
    "if ckpt_manager.latest_checkpoint:\n",
    "    ckpt.restore(ckpt_manager.latest_checkpoint)\n",
    "    print ('Latest checkpoint restored!!')"
   ]
  },
  {
   "cell_type": "code",
   "execution_count": 48,
   "metadata": {},
   "outputs": [],
   "source": [
    "EPOCHS = 20"
   ]
  },
  {
   "cell_type": "code",
   "execution_count": 49,
   "metadata": {},
   "outputs": [],
   "source": [
    "# @tf.functionは高速に実行するためにtrain_stepをTFグラフにトレースコンパイルします。\n",
    "# この関数は、引数となるテンソルのshapeに特化したものです。\n",
    "# シーケンスの長さや（最後のバッチが小さくなるなど）バッチサイズが可変となることによって\n",
    "# 再トレーシングが起きないようにするため、input_signatureを使って、より一般的なshapeを\n",
    "# 指定します。\n",
    "\n",
    "train_step_signature = [\n",
    "    tf.TensorSpec(shape=(None, None), dtype=tf.int64),\n",
    "    tf.TensorSpec(shape=(None, None), dtype=tf.int64),\n",
    "]\n",
    "\n",
    "@tf.function(input_signature=train_step_signature)\n",
    "def train_step(inp, tar):\n",
    "    tar_inp = tar[:, :-1]\n",
    "    tar_real = tar[:, 1:]\n",
    "\n",
    "    enc_padding_mask, combined_mask, dec_padding_mask = create_masks(inp, tar_inp)\n",
    "\n",
    "    with tf.GradientTape() as tape:\n",
    "        predictions, _ = transformer(inp, tar_inp, \n",
    "                                     True, \n",
    "                                     enc_padding_mask, \n",
    "                                     combined_mask, \n",
    "                                     dec_padding_mask)\n",
    "        \n",
    "        loss = loss_function(tar_real, predictions)\n",
    "\n",
    "    gradients = tape.gradient(loss, transformer.trainable_variables)    \n",
    "    optimizer.apply_gradients(zip(gradients, transformer.trainable_variables))\n",
    "\n",
    "    train_loss(loss)\n",
    "    train_accuracy(tar_real, predictions)"
   ]
  },
  {
   "cell_type": "code",
   "execution_count": 50,
   "metadata": {},
   "outputs": [
    {
     "name": "stdout",
     "output_type": "stream",
     "text": [
      "Epoch 1 Batch 0 Loss 4.5817 Accuracy 0.0000\n",
      "Epoch 1 Batch 50 Loss 4.1772 Accuracy 0.0002\n",
      "Epoch 1 Batch 100 Loss 4.1244 Accuracy 0.0105\n",
      "Epoch 1 Batch 150 Loss 4.0968 Accuracy 0.0161\n",
      "Epoch 1 Batch 200 Loss 4.0578 Accuracy 0.0190\n",
      "Epoch 1 Batch 250 Loss 3.9846 Accuracy 0.0207\n",
      "Epoch 1 Batch 300 Loss 3.9012 Accuracy 0.0244\n",
      "Epoch 1 Batch 350 Loss 3.8128 Accuracy 0.0281\n",
      "Epoch 1 Batch 400 Loss 3.7359 Accuracy 0.0314\n",
      "Epoch 1 Batch 450 Loss 3.6603 Accuracy 0.0345\n",
      "Epoch 1 Batch 500 Loss 3.5922 Accuracy 0.0374\n",
      "Epoch 1 Batch 550 Loss 3.5289 Accuracy 0.0409\n",
      "Epoch 1 Batch 600 Loss 3.4711 Accuracy 0.0445\n",
      "Epoch 1 Batch 650 Loss 3.4192 Accuracy 0.0481\n",
      "Epoch 1 Batch 700 Loss 3.3653 Accuracy 0.0516\n",
      "Epoch 1 Loss 3.3629 Accuracy 0.0517\n",
      "Time taken for 1 epoch: 860.8877849578857 secs\n",
      "\n",
      "Epoch 2 Batch 0 Loss 2.7918 Accuracy 0.1056\n",
      "Epoch 2 Batch 50 Loss 2.6369 Accuracy 0.1039\n",
      "Epoch 2 Batch 100 Loss 2.5935 Accuracy 0.1055\n",
      "Epoch 2 Batch 150 Loss 2.5622 Accuracy 0.1086\n",
      "Epoch 2 Batch 200 Loss 2.5295 Accuracy 0.1104\n",
      "Epoch 2 Batch 250 Loss 2.5082 Accuracy 0.1125\n",
      "Epoch 2 Batch 300 Loss 2.4905 Accuracy 0.1142\n",
      "Epoch 2 Batch 350 Loss 2.4715 Accuracy 0.1159\n",
      "Epoch 2 Batch 400 Loss 2.4511 Accuracy 0.1174\n",
      "Epoch 2 Batch 450 Loss 2.4331 Accuracy 0.1190\n",
      "Epoch 2 Batch 500 Loss 2.4162 Accuracy 0.1202\n",
      "Epoch 2 Batch 550 Loss 2.4012 Accuracy 0.1216\n",
      "Epoch 2 Batch 600 Loss 2.3904 Accuracy 0.1229\n",
      "Epoch 2 Batch 650 Loss 2.3775 Accuracy 0.1242\n",
      "Epoch 2 Batch 700 Loss 2.3681 Accuracy 0.1253\n",
      "Epoch 2 Loss 2.3676 Accuracy 0.1254\n",
      "Time taken for 1 epoch: 912.1660120487213 secs\n",
      "\n",
      "Epoch 3 Batch 0 Loss 2.1224 Accuracy 0.1456\n",
      "Epoch 3 Batch 50 Loss 2.1983 Accuracy 0.1448\n",
      "Epoch 3 Batch 100 Loss 2.1671 Accuracy 0.1447\n",
      "Epoch 3 Batch 150 Loss 2.1831 Accuracy 0.1458\n",
      "Epoch 3 Batch 200 Loss 2.1729 Accuracy 0.1463\n",
      "Epoch 3 Batch 250 Loss 2.1677 Accuracy 0.1467\n",
      "Epoch 3 Batch 300 Loss 2.1598 Accuracy 0.1470\n",
      "Epoch 3 Batch 350 Loss 2.1518 Accuracy 0.1478\n",
      "Epoch 3 Batch 400 Loss 2.1428 Accuracy 0.1483\n",
      "Epoch 3 Batch 450 Loss 2.1353 Accuracy 0.1490\n",
      "Epoch 3 Batch 500 Loss 2.1263 Accuracy 0.1497\n",
      "Epoch 3 Batch 550 Loss 2.1173 Accuracy 0.1503\n",
      "Epoch 3 Batch 600 Loss 2.1114 Accuracy 0.1511\n",
      "Epoch 3 Batch 650 Loss 2.1032 Accuracy 0.1516\n",
      "Epoch 3 Batch 700 Loss 2.0966 Accuracy 0.1523\n",
      "Epoch 3 Loss 2.0962 Accuracy 0.1523\n",
      "Time taken for 1 epoch: 771.2995688915253 secs\n",
      "\n",
      "Epoch 4 Batch 0 Loss 1.9319 Accuracy 0.1587\n",
      "Epoch 4 Batch 50 Loss 1.9349 Accuracy 0.1647\n",
      "Epoch 4 Batch 100 Loss 1.9485 Accuracy 0.1677\n",
      "Epoch 4 Batch 150 Loss 1.9426 Accuracy 0.1690\n",
      "Epoch 4 Batch 200 Loss 1.9342 Accuracy 0.1698\n",
      "Epoch 4 Batch 250 Loss 1.9275 Accuracy 0.1708\n",
      "Epoch 4 Batch 300 Loss 1.9223 Accuracy 0.1720\n",
      "Epoch 4 Batch 350 Loss 1.9102 Accuracy 0.1727\n",
      "Epoch 4 Batch 400 Loss 1.9037 Accuracy 0.1738\n",
      "Epoch 4 Batch 450 Loss 1.8944 Accuracy 0.1746\n",
      "Epoch 4 Batch 500 Loss 1.8870 Accuracy 0.1759\n",
      "Epoch 4 Batch 550 Loss 1.8779 Accuracy 0.1769\n",
      "Epoch 4 Batch 600 Loss 1.8691 Accuracy 0.1781\n",
      "Epoch 4 Batch 650 Loss 1.8642 Accuracy 0.1791\n",
      "Epoch 4 Batch 700 Loss 1.8598 Accuracy 0.1802\n",
      "Epoch 4 Loss 1.8589 Accuracy 0.1802\n",
      "Time taken for 1 epoch: 742.7941038608551 secs\n",
      "\n",
      "Epoch 5 Batch 0 Loss 1.8690 Accuracy 0.2119\n",
      "Epoch 5 Batch 50 Loss 1.6682 Accuracy 0.1976\n",
      "Epoch 5 Batch 100 Loss 1.6722 Accuracy 0.1981\n",
      "Epoch 5 Batch 150 Loss 1.6723 Accuracy 0.1988\n",
      "Epoch 5 Batch 200 Loss 1.6817 Accuracy 0.1997\n",
      "Epoch 5 Batch 250 Loss 1.6782 Accuracy 0.2009\n",
      "Epoch 5 Batch 300 Loss 1.6737 Accuracy 0.2016\n",
      "Epoch 5 Batch 350 Loss 1.6685 Accuracy 0.2026\n",
      "Epoch 5 Batch 400 Loss 1.6670 Accuracy 0.2032\n",
      "Epoch 5 Batch 450 Loss 1.6612 Accuracy 0.2040\n",
      "Epoch 5 Batch 500 Loss 1.6546 Accuracy 0.2047\n",
      "Epoch 5 Batch 550 Loss 1.6491 Accuracy 0.2050\n",
      "Epoch 5 Batch 600 Loss 1.6422 Accuracy 0.2055\n",
      "Epoch 5 Batch 650 Loss 1.6396 Accuracy 0.2062\n",
      "Epoch 5 Batch 700 Loss 1.6363 Accuracy 0.2070\n",
      "Saving checkpoint for epoch 5 at ./checkpoints/train/ckpt-1\n",
      "Epoch 5 Loss 1.6358 Accuracy 0.2070\n",
      "Time taken for 1 epoch: 745.5113232135773 secs\n",
      "\n",
      "Epoch 6 Batch 0 Loss 1.3785 Accuracy 0.2192\n",
      "Epoch 6 Batch 50 Loss 1.4760 Accuracy 0.2230\n",
      "Epoch 6 Batch 100 Loss 1.4845 Accuracy 0.2235\n",
      "Epoch 6 Batch 150 Loss 1.4852 Accuracy 0.2230\n",
      "Epoch 6 Batch 200 Loss 1.4836 Accuracy 0.2231\n",
      "Epoch 6 Batch 250 Loss 1.4793 Accuracy 0.2232\n",
      "Epoch 6 Batch 300 Loss 1.4797 Accuracy 0.2237\n",
      "Epoch 6 Batch 350 Loss 1.4827 Accuracy 0.2244\n",
      "Epoch 6 Batch 400 Loss 1.4807 Accuracy 0.2254\n",
      "Epoch 6 Batch 450 Loss 1.4784 Accuracy 0.2256\n",
      "Epoch 6 Batch 500 Loss 1.4746 Accuracy 0.2261\n",
      "Epoch 6 Batch 550 Loss 1.4701 Accuracy 0.2263\n",
      "Epoch 6 Batch 600 Loss 1.4650 Accuracy 0.2266\n",
      "Epoch 6 Batch 650 Loss 1.4611 Accuracy 0.2267\n",
      "Epoch 6 Batch 700 Loss 1.4571 Accuracy 0.2271\n",
      "Epoch 6 Loss 1.4567 Accuracy 0.2271\n",
      "Time taken for 1 epoch: 747.2233018875122 secs\n",
      "\n",
      "Epoch 7 Batch 0 Loss 1.3744 Accuracy 0.2459\n",
      "Epoch 7 Batch 50 Loss 1.2759 Accuracy 0.2387\n",
      "Epoch 7 Batch 100 Loss 1.2899 Accuracy 0.2415\n",
      "Epoch 7 Batch 150 Loss 1.2959 Accuracy 0.2409\n",
      "Epoch 7 Batch 200 Loss 1.2905 Accuracy 0.2415\n",
      "Epoch 7 Batch 250 Loss 1.2961 Accuracy 0.2427\n",
      "Epoch 7 Batch 300 Loss 1.2943 Accuracy 0.2435\n",
      "Epoch 7 Batch 350 Loss 1.2939 Accuracy 0.2441\n",
      "Epoch 7 Batch 400 Loss 1.2907 Accuracy 0.2448\n",
      "Epoch 7 Batch 450 Loss 1.2894 Accuracy 0.2451\n",
      "Epoch 7 Batch 500 Loss 1.2884 Accuracy 0.2460\n",
      "Epoch 7 Batch 550 Loss 1.2845 Accuracy 0.2462\n",
      "Epoch 7 Batch 600 Loss 1.2811 Accuracy 0.2466\n",
      "Epoch 7 Batch 650 Loss 1.2768 Accuracy 0.2469\n",
      "Epoch 7 Batch 700 Loss 1.2747 Accuracy 0.2474\n",
      "Epoch 7 Loss 1.2746 Accuracy 0.2474\n",
      "Time taken for 1 epoch: 747.9078528881073 secs\n",
      "\n",
      "Epoch 8 Batch 0 Loss 1.2511 Accuracy 0.2773\n",
      "Epoch 8 Batch 50 Loss 1.1240 Accuracy 0.2634\n",
      "Epoch 8 Batch 100 Loss 1.1190 Accuracy 0.2627\n",
      "Epoch 8 Batch 150 Loss 1.1163 Accuracy 0.2626\n",
      "Epoch 8 Batch 200 Loss 1.1223 Accuracy 0.2633\n",
      "Epoch 8 Batch 250 Loss 1.1279 Accuracy 0.2643\n",
      "Epoch 8 Batch 300 Loss 1.1291 Accuracy 0.2647\n",
      "Epoch 8 Batch 350 Loss 1.1278 Accuracy 0.2647\n",
      "Epoch 8 Batch 400 Loss 1.1320 Accuracy 0.2652\n",
      "Epoch 8 Batch 450 Loss 1.1321 Accuracy 0.2651\n",
      "Epoch 8 Batch 500 Loss 1.1315 Accuracy 0.2656\n",
      "Epoch 8 Batch 550 Loss 1.1287 Accuracy 0.2658\n",
      "Epoch 8 Batch 600 Loss 1.1275 Accuracy 0.2658\n",
      "Epoch 8 Batch 650 Loss 1.1256 Accuracy 0.2661\n",
      "Epoch 8 Batch 700 Loss 1.1262 Accuracy 0.2663\n",
      "Epoch 8 Loss 1.1265 Accuracy 0.2663\n",
      "Time taken for 1 epoch: 1069.4456329345703 secs\n",
      "\n",
      "Epoch 9 Batch 0 Loss 0.9395 Accuracy 0.2328\n",
      "Epoch 9 Batch 50 Loss 0.9844 Accuracy 0.2811\n",
      "Epoch 9 Batch 100 Loss 0.9994 Accuracy 0.2811\n",
      "Epoch 9 Batch 150 Loss 1.0070 Accuracy 0.2820\n",
      "Epoch 9 Batch 200 Loss 1.0128 Accuracy 0.2811\n",
      "Epoch 9 Batch 250 Loss 1.0140 Accuracy 0.2803\n",
      "Epoch 9 Batch 300 Loss 1.0165 Accuracy 0.2801\n",
      "Epoch 9 Batch 350 Loss 1.0165 Accuracy 0.2809\n",
      "Epoch 9 Batch 400 Loss 1.0150 Accuracy 0.2812\n",
      "Epoch 9 Batch 450 Loss 1.0167 Accuracy 0.2813\n",
      "Epoch 9 Batch 500 Loss 1.0163 Accuracy 0.2813\n",
      "Epoch 9 Batch 550 Loss 1.0146 Accuracy 0.2811\n",
      "Epoch 9 Batch 600 Loss 1.0149 Accuracy 0.2807\n",
      "Epoch 9 Batch 650 Loss 1.0147 Accuracy 0.2805\n",
      "Epoch 9 Batch 700 Loss 1.0136 Accuracy 0.2802\n",
      "Epoch 9 Loss 1.0140 Accuracy 0.2802\n",
      "Time taken for 1 epoch: 783.5050828456879 secs\n",
      "\n",
      "Epoch 10 Batch 0 Loss 0.8527 Accuracy 0.2783\n",
      "Epoch 10 Batch 50 Loss 0.9093 Accuracy 0.2941\n",
      "Epoch 10 Batch 100 Loss 0.9078 Accuracy 0.2945\n",
      "Epoch 10 Batch 150 Loss 0.9126 Accuracy 0.2937\n",
      "Epoch 10 Batch 200 Loss 0.9125 Accuracy 0.2924\n",
      "Epoch 10 Batch 250 Loss 0.9142 Accuracy 0.2916\n",
      "Epoch 10 Batch 300 Loss 0.9171 Accuracy 0.2919\n",
      "Epoch 10 Batch 350 Loss 0.9191 Accuracy 0.2913\n",
      "Epoch 10 Batch 400 Loss 0.9213 Accuracy 0.2913\n",
      "Epoch 10 Batch 450 Loss 0.9233 Accuracy 0.2911\n",
      "Epoch 10 Batch 500 Loss 0.9235 Accuracy 0.2909\n",
      "Epoch 10 Batch 550 Loss 0.9260 Accuracy 0.2906\n",
      "Epoch 10 Batch 600 Loss 0.9265 Accuracy 0.2908\n",
      "Epoch 10 Batch 650 Loss 0.9281 Accuracy 0.2909\n",
      "Epoch 10 Batch 700 Loss 0.9289 Accuracy 0.2907\n",
      "Saving checkpoint for epoch 10 at ./checkpoints/train/ckpt-2\n",
      "Epoch 10 Loss 0.9289 Accuracy 0.2906\n",
      "Time taken for 1 epoch: 752.9492721557617 secs\n",
      "\n",
      "Epoch 11 Batch 0 Loss 0.7299 Accuracy 0.3096\n",
      "Epoch 11 Batch 50 Loss 0.8341 Accuracy 0.3044\n",
      "Epoch 11 Batch 100 Loss 0.8346 Accuracy 0.3043\n",
      "Epoch 11 Batch 150 Loss 0.8328 Accuracy 0.3014\n",
      "Epoch 11 Batch 200 Loss 0.8410 Accuracy 0.3016\n",
      "Epoch 11 Batch 250 Loss 0.8439 Accuracy 0.3013\n",
      "Epoch 11 Batch 300 Loss 0.8483 Accuracy 0.3015\n",
      "Epoch 11 Batch 350 Loss 0.8477 Accuracy 0.3012\n"
     ]
    },
    {
     "name": "stdout",
     "output_type": "stream",
     "text": [
      "Epoch 11 Batch 400 Loss 0.8521 Accuracy 0.3011\n",
      "Epoch 11 Batch 450 Loss 0.8533 Accuracy 0.3009\n",
      "Epoch 11 Batch 500 Loss 0.8535 Accuracy 0.3004\n",
      "Epoch 11 Batch 550 Loss 0.8545 Accuracy 0.2997\n",
      "Epoch 11 Batch 600 Loss 0.8562 Accuracy 0.2993\n",
      "Epoch 11 Batch 650 Loss 0.8595 Accuracy 0.2995\n",
      "Epoch 11 Batch 700 Loss 0.8621 Accuracy 0.2994\n",
      "Epoch 11 Loss 0.8626 Accuracy 0.2995\n",
      "Time taken for 1 epoch: 754.9040229320526 secs\n",
      "\n",
      "Epoch 12 Batch 0 Loss 0.7903 Accuracy 0.3013\n",
      "Epoch 12 Batch 50 Loss 0.7636 Accuracy 0.3098\n",
      "Epoch 12 Batch 100 Loss 0.7810 Accuracy 0.3110\n",
      "Epoch 12 Batch 150 Loss 0.7837 Accuracy 0.3101\n",
      "Epoch 12 Batch 200 Loss 0.7885 Accuracy 0.3098\n",
      "Epoch 12 Batch 250 Loss 0.7890 Accuracy 0.3091\n",
      "Epoch 12 Batch 300 Loss 0.7894 Accuracy 0.3083\n",
      "Epoch 12 Batch 350 Loss 0.7888 Accuracy 0.3081\n",
      "Epoch 12 Batch 400 Loss 0.7891 Accuracy 0.3081\n",
      "Epoch 12 Batch 450 Loss 0.7935 Accuracy 0.3082\n",
      "Epoch 12 Batch 500 Loss 0.7973 Accuracy 0.3080\n",
      "Epoch 12 Batch 550 Loss 0.7995 Accuracy 0.3078\n",
      "Epoch 12 Batch 600 Loss 0.8026 Accuracy 0.3076\n",
      "Epoch 12 Batch 650 Loss 0.8046 Accuracy 0.3071\n",
      "Epoch 12 Batch 700 Loss 0.8072 Accuracy 0.3069\n",
      "Epoch 12 Loss 0.8070 Accuracy 0.3069\n",
      "Time taken for 1 epoch: 755.2582161426544 secs\n",
      "\n",
      "Epoch 13 Batch 0 Loss 0.6327 Accuracy 0.3014\n",
      "Epoch 13 Batch 50 Loss 0.7154 Accuracy 0.3168\n",
      "Epoch 13 Batch 100 Loss 0.7267 Accuracy 0.3179\n",
      "Epoch 13 Batch 150 Loss 0.7291 Accuracy 0.3167\n",
      "Epoch 13 Batch 200 Loss 0.7334 Accuracy 0.3163\n",
      "Epoch 13 Batch 250 Loss 0.7351 Accuracy 0.3162\n",
      "Epoch 13 Batch 300 Loss 0.7379 Accuracy 0.3149\n",
      "Epoch 13 Batch 350 Loss 0.7417 Accuracy 0.3151\n",
      "Epoch 13 Batch 400 Loss 0.7444 Accuracy 0.3142\n",
      "Epoch 13 Batch 450 Loss 0.7456 Accuracy 0.3141\n",
      "Epoch 13 Batch 500 Loss 0.7482 Accuracy 0.3141\n",
      "Epoch 13 Batch 550 Loss 0.7522 Accuracy 0.3143\n",
      "Epoch 13 Batch 600 Loss 0.7543 Accuracy 0.3143\n",
      "Epoch 13 Batch 650 Loss 0.7580 Accuracy 0.3143\n",
      "Epoch 13 Batch 700 Loss 0.7597 Accuracy 0.3141\n",
      "Epoch 13 Loss 0.7601 Accuracy 0.3141\n",
      "Time taken for 1 epoch: 753.9890160560608 secs\n",
      "\n",
      "Epoch 14 Batch 0 Loss 0.6292 Accuracy 0.3385\n",
      "Epoch 14 Batch 50 Loss 0.6795 Accuracy 0.3247\n",
      "Epoch 14 Batch 100 Loss 0.6774 Accuracy 0.3234\n",
      "Epoch 14 Batch 150 Loss 0.6818 Accuracy 0.3241\n",
      "Epoch 14 Batch 200 Loss 0.6936 Accuracy 0.3229\n",
      "Epoch 14 Batch 250 Loss 0.6980 Accuracy 0.3223\n",
      "Epoch 14 Batch 300 Loss 0.7005 Accuracy 0.3225\n",
      "Epoch 14 Batch 350 Loss 0.7021 Accuracy 0.3219\n",
      "Epoch 14 Batch 400 Loss 0.7041 Accuracy 0.3214\n",
      "Epoch 14 Batch 450 Loss 0.7059 Accuracy 0.3212\n",
      "Epoch 14 Batch 500 Loss 0.7080 Accuracy 0.3205\n",
      "Epoch 14 Batch 550 Loss 0.7093 Accuracy 0.3199\n",
      "Epoch 14 Batch 600 Loss 0.7123 Accuracy 0.3199\n",
      "Epoch 14 Batch 650 Loss 0.7142 Accuracy 0.3193\n",
      "Epoch 14 Batch 700 Loss 0.7161 Accuracy 0.3186\n",
      "Epoch 14 Loss 0.7161 Accuracy 0.3186\n",
      "Time taken for 1 epoch: 755.1944041252136 secs\n",
      "\n",
      "Epoch 15 Batch 0 Loss 0.5365 Accuracy 0.3141\n",
      "Epoch 15 Batch 50 Loss 0.6405 Accuracy 0.3294\n",
      "Epoch 15 Batch 100 Loss 0.6455 Accuracy 0.3262\n",
      "Epoch 15 Batch 150 Loss 0.6534 Accuracy 0.3263\n",
      "Epoch 15 Batch 200 Loss 0.6560 Accuracy 0.3261\n",
      "Epoch 15 Batch 250 Loss 0.6584 Accuracy 0.3260\n",
      "Epoch 15 Batch 300 Loss 0.6606 Accuracy 0.3255\n",
      "Epoch 15 Batch 350 Loss 0.6652 Accuracy 0.3258\n",
      "Epoch 15 Batch 400 Loss 0.6673 Accuracy 0.3255\n",
      "Epoch 15 Batch 450 Loss 0.6697 Accuracy 0.3255\n",
      "Epoch 15 Batch 500 Loss 0.6729 Accuracy 0.3252\n",
      "Epoch 15 Batch 550 Loss 0.6736 Accuracy 0.3246\n",
      "Epoch 15 Batch 600 Loss 0.6749 Accuracy 0.3240\n",
      "Epoch 15 Batch 650 Loss 0.6789 Accuracy 0.3239\n",
      "Epoch 15 Batch 700 Loss 0.6822 Accuracy 0.3235\n",
      "Saving checkpoint for epoch 15 at ./checkpoints/train/ckpt-3\n",
      "Epoch 15 Loss 0.6825 Accuracy 0.3236\n",
      "Time taken for 1 epoch: 755.2250437736511 secs\n",
      "\n",
      "Epoch 16 Batch 0 Loss 0.6664 Accuracy 0.3562\n",
      "Epoch 16 Batch 50 Loss 0.6193 Accuracy 0.3360\n",
      "Epoch 16 Batch 100 Loss 0.6214 Accuracy 0.3335\n",
      "Epoch 16 Batch 150 Loss 0.6157 Accuracy 0.3326\n",
      "Epoch 16 Batch 200 Loss 0.6195 Accuracy 0.3316\n",
      "Epoch 16 Batch 250 Loss 0.6227 Accuracy 0.3316\n",
      "Epoch 16 Batch 300 Loss 0.6246 Accuracy 0.3301\n",
      "Epoch 16 Batch 350 Loss 0.6303 Accuracy 0.3300\n",
      "Epoch 16 Batch 400 Loss 0.6332 Accuracy 0.3302\n",
      "Epoch 16 Batch 450 Loss 0.6354 Accuracy 0.3293\n",
      "Epoch 16 Batch 500 Loss 0.6382 Accuracy 0.3291\n",
      "Epoch 16 Batch 550 Loss 0.6414 Accuracy 0.3293\n",
      "Epoch 16 Batch 600 Loss 0.6449 Accuracy 0.3288\n",
      "Epoch 16 Batch 650 Loss 0.6473 Accuracy 0.3286\n",
      "Epoch 16 Batch 700 Loss 0.6496 Accuracy 0.3282\n",
      "Epoch 16 Loss 0.6499 Accuracy 0.3282\n",
      "Time taken for 1 epoch: 754.098179101944 secs\n",
      "\n",
      "Epoch 17 Batch 0 Loss 0.5044 Accuracy 0.3201\n",
      "Epoch 17 Batch 50 Loss 0.5891 Accuracy 0.3457\n",
      "Epoch 17 Batch 100 Loss 0.5872 Accuracy 0.3412\n",
      "Epoch 17 Batch 150 Loss 0.5950 Accuracy 0.3402\n",
      "Epoch 17 Batch 200 Loss 0.6004 Accuracy 0.3396\n",
      "Epoch 17 Batch 250 Loss 0.6012 Accuracy 0.3380\n",
      "Epoch 17 Batch 300 Loss 0.6023 Accuracy 0.3376\n",
      "Epoch 17 Batch 350 Loss 0.6042 Accuracy 0.3370\n",
      "Epoch 17 Batch 400 Loss 0.6078 Accuracy 0.3365\n",
      "Epoch 17 Batch 450 Loss 0.6104 Accuracy 0.3363\n",
      "Epoch 17 Batch 500 Loss 0.6136 Accuracy 0.3360\n",
      "Epoch 17 Batch 550 Loss 0.6149 Accuracy 0.3353\n",
      "Epoch 17 Batch 600 Loss 0.6182 Accuracy 0.3346\n",
      "Epoch 17 Batch 650 Loss 0.6218 Accuracy 0.3340\n",
      "Epoch 17 Batch 700 Loss 0.6245 Accuracy 0.3339\n",
      "Epoch 17 Loss 0.6247 Accuracy 0.3339\n",
      "Time taken for 1 epoch: 749.5152308940887 secs\n",
      "\n",
      "Epoch 18 Batch 0 Loss 0.5728 Accuracy 0.3310\n",
      "Epoch 18 Batch 50 Loss 0.5666 Accuracy 0.3475\n",
      "Epoch 18 Batch 100 Loss 0.5650 Accuracy 0.3432\n",
      "Epoch 18 Batch 150 Loss 0.5629 Accuracy 0.3406\n",
      "Epoch 18 Batch 200 Loss 0.5678 Accuracy 0.3400\n",
      "Epoch 18 Batch 250 Loss 0.5709 Accuracy 0.3393\n",
      "Epoch 18 Batch 300 Loss 0.5752 Accuracy 0.3387\n",
      "Epoch 18 Batch 350 Loss 0.5772 Accuracy 0.3382\n",
      "Epoch 18 Batch 400 Loss 0.5807 Accuracy 0.3387\n",
      "Epoch 18 Batch 450 Loss 0.5855 Accuracy 0.3391\n",
      "Epoch 18 Batch 500 Loss 0.5880 Accuracy 0.3385\n",
      "Epoch 18 Batch 550 Loss 0.5899 Accuracy 0.3378\n",
      "Epoch 18 Batch 600 Loss 0.5917 Accuracy 0.3374\n",
      "Epoch 18 Batch 650 Loss 0.5945 Accuracy 0.3375\n",
      "Epoch 18 Batch 700 Loss 0.5973 Accuracy 0.3369\n",
      "Epoch 18 Loss 0.5972 Accuracy 0.3369\n",
      "Time taken for 1 epoch: 749.6197352409363 secs\n",
      "\n",
      "Epoch 19 Batch 0 Loss 0.5691 Accuracy 0.3546\n",
      "Epoch 19 Batch 50 Loss 0.5424 Accuracy 0.3498\n",
      "Epoch 19 Batch 100 Loss 0.5409 Accuracy 0.3484\n",
      "Epoch 19 Batch 150 Loss 0.5431 Accuracy 0.3479\n",
      "Epoch 19 Batch 200 Loss 0.5467 Accuracy 0.3455\n",
      "Epoch 19 Batch 250 Loss 0.5491 Accuracy 0.3450\n",
      "Epoch 19 Batch 300 Loss 0.5524 Accuracy 0.3439\n",
      "Epoch 19 Batch 350 Loss 0.5549 Accuracy 0.3435\n",
      "Epoch 19 Batch 400 Loss 0.5599 Accuracy 0.3426\n",
      "Epoch 19 Batch 450 Loss 0.5617 Accuracy 0.3427\n",
      "Epoch 19 Batch 500 Loss 0.5646 Accuracy 0.3429\n",
      "Epoch 19 Batch 550 Loss 0.5673 Accuracy 0.3428\n",
      "Epoch 19 Batch 600 Loss 0.5700 Accuracy 0.3418\n",
      "Epoch 19 Batch 650 Loss 0.5724 Accuracy 0.3411\n",
      "Epoch 19 Batch 700 Loss 0.5754 Accuracy 0.3406\n",
      "Epoch 19 Loss 0.5755 Accuracy 0.3406\n",
      "Time taken for 1 epoch: 748.2060260772705 secs\n",
      "\n",
      "Epoch 20 Batch 0 Loss 0.4748 Accuracy 0.3546\n",
      "Epoch 20 Batch 50 Loss 0.5166 Accuracy 0.3522\n",
      "Epoch 20 Batch 100 Loss 0.5177 Accuracy 0.3521\n",
      "Epoch 20 Batch 150 Loss 0.5237 Accuracy 0.3499\n",
      "Epoch 20 Batch 200 Loss 0.5277 Accuracy 0.3496\n",
      "Epoch 20 Batch 250 Loss 0.5294 Accuracy 0.3488\n",
      "Epoch 20 Batch 300 Loss 0.5321 Accuracy 0.3476\n",
      "Epoch 20 Batch 350 Loss 0.5337 Accuracy 0.3463\n",
      "Epoch 20 Batch 400 Loss 0.5361 Accuracy 0.3460\n",
      "Epoch 20 Batch 450 Loss 0.5393 Accuracy 0.3459\n",
      "Epoch 20 Batch 500 Loss 0.5431 Accuracy 0.3457\n",
      "Epoch 20 Batch 550 Loss 0.5462 Accuracy 0.3457\n",
      "Epoch 20 Batch 600 Loss 0.5488 Accuracy 0.3450\n",
      "Epoch 20 Batch 650 Loss 0.5504 Accuracy 0.3444\n",
      "Epoch 20 Batch 700 Loss 0.5533 Accuracy 0.3439\n",
      "Saving checkpoint for epoch 20 at ./checkpoints/train/ckpt-4\n",
      "Epoch 20 Loss 0.5537 Accuracy 0.3439\n",
      "Time taken for 1 epoch: 748.1997199058533 secs\n",
      "\n"
     ]
    }
   ],
   "source": [
    "for epoch in range(EPOCHS):\n",
    "    start = time.time()\n",
    "\n",
    "    train_loss.reset_states()\n",
    "    train_accuracy.reset_states()\n",
    "\n",
    "    # inp -> portuguese, tar -> english\n",
    "    for (batch, (inp, tar)) in enumerate(train_dataset):\n",
    "        train_step(inp, tar)\n",
    "\n",
    "        if batch % 50 == 0:\n",
    "            print ('Epoch {} Batch {} Loss {:.4f} Accuracy {:.4f}'.format(\n",
    "            epoch + 1, batch, train_loss.result(), train_accuracy.result()))\n",
    "\n",
    "    if (epoch + 1) % 5 == 0:\n",
    "        ckpt_save_path = ckpt_manager.save()\n",
    "        print ('Saving checkpoint for epoch {} at {}'.format(epoch+1,\n",
    "                                                             ckpt_save_path))\n",
    "\n",
    "    print ('Epoch {} Loss {:.4f} Accuracy {:.4f}'.format(epoch + 1, train_loss.result(), train_accuracy.result()))\n",
    "\n",
    "    print ('Time taken for 1 epoch: {} secs\\n'.format(time.time() - start))"
   ]
  }
 ],
 "metadata": {
  "kernelspec": {
   "display_name": "Python 3",
   "language": "python",
   "name": "python3"
  },
  "language_info": {
   "codemirror_mode": {
    "name": "ipython",
    "version": 3
   },
   "file_extension": ".py",
   "mimetype": "text/x-python",
   "name": "python",
   "nbconvert_exporter": "python",
   "pygments_lexer": "ipython3",
   "version": "3.8.2"
  },
  "toc": {
   "base_numbering": 1,
   "nav_menu": {},
   "number_sections": true,
   "sideBar": true,
   "skip_h1_title": false,
   "title_cell": "Table of Contents",
   "title_sidebar": "Contents",
   "toc_cell": false,
   "toc_position": {},
   "toc_section_display": true,
   "toc_window_display": false
  }
 },
 "nbformat": 4,
 "nbformat_minor": 4
}
